{
 "cells": [
  {
   "cell_type": "markdown",
   "metadata": {},
   "source": [
    "# Testing Features and Functions Locally"
   ]
  },
  {
   "cell_type": "code",
   "execution_count": 1,
   "metadata": {},
   "outputs": [
    {
     "name": "stdout",
     "output_type": "stream",
     "text": [
      "Looking in indexes: https://test.pypi.org/simple/, https://pypi.org/simple\n",
      "Collecting HIRISEimgs==0.0.0.0.dev46\n",
      "  Downloading https://test-files.pythonhosted.org/packages/4b/33/d7e2a9246add826755b300c1d0207cde717cf707445d16b6e41c94993435/HIRISEimgs-0.0.0.0.dev46.tar.gz (11.3 MB)\n",
      "     ---------------------------------------- 11.3/11.3 MB 1.3 MB/s eta 0:00:00\n",
      "  Preparing metadata (setup.py): started\n",
      "  Preparing metadata (setup.py): finished with status 'done'\n",
      "Requirement already satisfied: humanize in c:\\users\\niranjana\\appdata\\local\\programs\\python\\python310\\lib\\site-packages (from HIRISEimgs==0.0.0.0.dev46) (4.1.0)\n",
      "Requirement already satisfied: requests in c:\\users\\niranjana\\appdata\\local\\programs\\python\\python310\\lib\\site-packages (from HIRISEimgs==0.0.0.0.dev46) (2.27.1)\n",
      "Requirement already satisfied: beautifulsoup4 in c:\\users\\niranjana\\appdata\\local\\programs\\python\\python310\\lib\\site-packages (from HIRISEimgs==0.0.0.0.dev46) (4.11.1)\n",
      "Requirement already satisfied: pyamg in c:\\users\\niranjana\\appdata\\local\\programs\\python\\python310\\lib\\site-packages (from HIRISEimgs==0.0.0.0.dev46) (4.2.2)\n",
      "Requirement already satisfied: soupsieve>1.2 in c:\\users\\niranjana\\appdata\\local\\programs\\python\\python310\\lib\\site-packages (from beautifulsoup4->HIRISEimgs==0.0.0.0.dev46) (2.3.2.post1)\n",
      "Requirement already satisfied: pytest>=2 in c:\\users\\niranjana\\appdata\\local\\programs\\python\\python310\\lib\\site-packages (from pyamg->HIRISEimgs==0.0.0.0.dev46) (7.0.1)\n",
      "Requirement already satisfied: scipy>=0.12.0 in c:\\users\\niranjana\\appdata\\local\\programs\\python\\python310\\lib\\site-packages (from pyamg->HIRISEimgs==0.0.0.0.dev46) (1.7.3)\n",
      "Requirement already satisfied: numpy>=1.7.0 in c:\\users\\niranjana\\appdata\\local\\programs\\python\\python310\\lib\\site-packages (from pyamg->HIRISEimgs==0.0.0.0.dev46) (1.21.4)\n",
      "Requirement already satisfied: charset-normalizer~=2.0.0 in c:\\users\\niranjana\\appdata\\local\\programs\\python\\python310\\lib\\site-packages (from requests->HIRISEimgs==0.0.0.0.dev46) (2.0.12)\n",
      "Requirement already satisfied: certifi>=2017.4.17 in c:\\users\\niranjana\\appdata\\local\\programs\\python\\python310\\lib\\site-packages (from requests->HIRISEimgs==0.0.0.0.dev46) (2021.10.8)\n",
      "Requirement already satisfied: urllib3<1.27,>=1.21.1 in c:\\users\\niranjana\\appdata\\local\\programs\\python\\python310\\lib\\site-packages (from requests->HIRISEimgs==0.0.0.0.dev46) (1.26.8)\n",
      "Requirement already satisfied: idna<4,>=2.5 in c:\\users\\niranjana\\appdata\\local\\programs\\python\\python310\\lib\\site-packages (from requests->HIRISEimgs==0.0.0.0.dev46) (3.3)\n",
      "Requirement already satisfied: atomicwrites>=1.0 in c:\\users\\niranjana\\appdata\\local\\programs\\python\\python310\\lib\\site-packages (from pytest>=2->pyamg->HIRISEimgs==0.0.0.0.dev46) (1.4.0)\n",
      "Requirement already satisfied: py>=1.8.2 in c:\\users\\niranjana\\appdata\\local\\programs\\python\\python310\\lib\\site-packages (from pytest>=2->pyamg->HIRISEimgs==0.0.0.0.dev46) (1.11.0)\n",
      "Requirement already satisfied: colorama in c:\\users\\niranjana\\appdata\\local\\programs\\python\\python310\\lib\\site-packages (from pytest>=2->pyamg->HIRISEimgs==0.0.0.0.dev46) (0.4.4)\n",
      "Requirement already satisfied: packaging in c:\\users\\niranjana\\appdata\\local\\programs\\python\\python310\\lib\\site-packages (from pytest>=2->pyamg->HIRISEimgs==0.0.0.0.dev46) (21.3)\n",
      "Requirement already satisfied: iniconfig in c:\\users\\niranjana\\appdata\\local\\programs\\python\\python310\\lib\\site-packages (from pytest>=2->pyamg->HIRISEimgs==0.0.0.0.dev46) (1.1.1)\n",
      "Requirement already satisfied: pluggy<2.0,>=0.12 in c:\\users\\niranjana\\appdata\\local\\programs\\python\\python310\\lib\\site-packages (from pytest>=2->pyamg->HIRISEimgs==0.0.0.0.dev46) (1.0.0)\n",
      "Requirement already satisfied: attrs>=19.2.0 in c:\\users\\niranjana\\appdata\\local\\programs\\python\\python310\\lib\\site-packages (from pytest>=2->pyamg->HIRISEimgs==0.0.0.0.dev46) (21.4.0)\n",
      "Requirement already satisfied: tomli>=1.0.0 in c:\\users\\niranjana\\appdata\\local\\programs\\python\\python310\\lib\\site-packages (from pytest>=2->pyamg->HIRISEimgs==0.0.0.0.dev46) (2.0.1)\n",
      "Requirement already satisfied: pyparsing!=3.0.5,>=2.0.2 in c:\\users\\niranjana\\appdata\\local\\programs\\python\\python310\\lib\\site-packages (from packaging->pytest>=2->pyamg->HIRISEimgs==0.0.0.0.dev46) (3.0.6)\n",
      "Building wheels for collected packages: HIRISEimgs\n",
      "  Building wheel for HIRISEimgs (setup.py): started\n",
      "  Building wheel for HIRISEimgs (setup.py): finished with status 'done'\n",
      "  Created wheel for HIRISEimgs: filename=HIRISEimgs-0.0.0.0.dev46-py3-none-any.whl size=11275384 sha256=f8c03d80ce6137d67ac6ec371f0ce02cabbdd52c41a12dc2ef0657993c259397\n",
      "  Stored in directory: c:\\users\\niranjana\\appdata\\local\\pip\\cache\\wheels\\1a\\d6\\80\\120674e0d5fa6fef3a31eb7c0627247c1b16568acdb59d71f8\n",
      "Successfully built HIRISEimgs\n",
      "Installing collected packages: HIRISEimgs\n",
      "Successfully installed HIRISEimgs-0.0.0.0.dev46\n"
     ]
    }
   ],
   "source": [
    "!pip install --index-url https://test.pypi.org/simple/ --extra-index-url https://pypi.org/simple  HIRISEimgs==0.0.0.0.dev46 --user"
   ]
  },
  {
   "cell_type": "code",
   "execution_count": null,
   "metadata": {},
   "outputs": [],
   "source": [
    "import sys\n",
    "sys.path.append('/users/niranjana/appdata/local/programs/python/python310/lib/site-packages')\n",
    "# sys.path.append('/users/alw/appdata/roaming/python/python310/site-packages')\n",
    "# sys.path.append('/python310/lib/site-packages')"
   ]
  },
  {
   "cell_type": "code",
   "execution_count": 4,
   "metadata": {},
   "outputs": [
    {
     "name": "stderr",
     "output_type": "stream",
     "text": [
      "C:\\Users\\Niranjana\\AppData\\Local\\Programs\\Python\\Python310\\lib\\site-packages\\torch\\_masked\\__init__.py:223: UserWarning: Failed to initialize NumPy: module compiled against API version 0xf but this version of numpy is 0xe (Triggered internally at  ..\\torch\\csrc\\utils\\tensor_numpy.cpp:68.)\n",
      "  example_input = torch.tensor([[-3, -2, -1], [0, 1, 2]])\n"
     ]
    }
   ],
   "source": [
    "from hirise import Hirise_Image\n",
    "from hirise import Image_Client\n",
    "from preprocessing import Data_Preparation"
   ]
  },
  {
   "cell_type": "code",
   "execution_count": 5,
   "metadata": {},
   "outputs": [],
   "source": [
    "imc = Image_Client.Image_Client()"
   ]
  },
  {
   "cell_type": "code",
   "execution_count": null,
   "metadata": {},
   "outputs": [],
   "source": [
    "imc.download_random_images(folder_path='./data-download/', image_count=10)"
   ]
  }
 ],
 "metadata": {
  "kernelspec": {
   "display_name": "Python 3 (ipykernel)",
   "language": "python",
   "name": "python3"
  },
  "language_info": {
   "codemirror_mode": {
    "name": "ipython",
    "version": 3
   },
   "file_extension": ".py",
   "mimetype": "text/x-python",
   "name": "python",
   "nbconvert_exporter": "python",
   "pygments_lexer": "ipython3",
   "version": "3.10.1"
  }
 },
 "nbformat": 4,
 "nbformat_minor": 2
}
