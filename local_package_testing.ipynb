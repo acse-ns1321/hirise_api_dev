{
 "cells": [
  {
   "cell_type": "markdown",
   "metadata": {},
   "source": [
    "# Testing Features and Functions Locally"
   ]
  },
  {
   "cell_type": "code",
   "execution_count": 10,
   "metadata": {},
   "outputs": [
    {
     "name": "stdout",
     "output_type": "stream",
     "text": [
      "Looking in indexes: https://test.pypi.org/simple/, https://pypi.org/simple\n",
      "Collecting HIRISEimgs==0.0.0.0.dev47\n",
      "  Downloading https://test-files.pythonhosted.org/packages/61/c8/d611fe884ccdd3ad7d59ddb69f96eb9995cff5d8860300e282ef87f576a7/HIRISEimgs-0.0.0.0.dev47.tar.gz (11.3 MB)\n",
      "     ---------------------------------------- 11.3/11.3 MB 1.3 MB/s eta 0:00:00\n",
      "  Preparing metadata (setup.py): started\n",
      "  Preparing metadata (setup.py): finished with status 'done'\n",
      "Requirement already satisfied: pandas in c:\\users\\niranjana\\appdata\\local\\programs\\python\\python310\\lib\\site-packages (from HIRISEimgs==0.0.0.0.dev47) (1.3.5)\n",
      "Requirement already satisfied: torch in c:\\users\\niranjana\\appdata\\local\\programs\\python\\python310\\lib\\site-packages (from HIRISEimgs==0.0.0.0.dev47) (1.11.0)\n",
      "Requirement already satisfied: numpy in c:\\users\\niranjana\\appdata\\local\\programs\\python\\python310\\lib\\site-packages (from HIRISEimgs==0.0.0.0.dev47) (1.21.4)\n",
      "Requirement already satisfied: humanize in c:\\users\\niranjana\\appdata\\local\\programs\\python\\python310\\lib\\site-packages (from HIRISEimgs==0.0.0.0.dev47) (4.1.0)\n",
      "Requirement already satisfied: requests in c:\\users\\niranjana\\appdata\\local\\programs\\python\\python310\\lib\\site-packages (from HIRISEimgs==0.0.0.0.dev47) (2.27.1)\n",
      "Requirement already satisfied: beautifulsoup4 in c:\\users\\niranjana\\appdata\\local\\programs\\python\\python310\\lib\\site-packages (from HIRISEimgs==0.0.0.0.dev47) (4.11.1)\n",
      "Requirement already satisfied: pyamg in c:\\users\\niranjana\\appdata\\local\\programs\\python\\python310\\lib\\site-packages (from HIRISEimgs==0.0.0.0.dev47) (4.2.2)\n",
      "Requirement already satisfied: soupsieve>1.2 in c:\\users\\niranjana\\appdata\\local\\programs\\python\\python310\\lib\\site-packages (from beautifulsoup4->HIRISEimgs==0.0.0.0.dev47) (2.3.2.post1)\n",
      "Requirement already satisfied: python-dateutil>=2.7.3 in c:\\users\\niranjana\\appdata\\local\\programs\\python\\python310\\lib\\site-packages (from pandas->HIRISEimgs==0.0.0.0.dev47) (2.8.2)\n",
      "Requirement already satisfied: pytz>=2017.3 in c:\\users\\niranjana\\appdata\\local\\programs\\python\\python310\\lib\\site-packages (from pandas->HIRISEimgs==0.0.0.0.dev47) (2021.3)\n",
      "Requirement already satisfied: scipy>=0.12.0 in c:\\users\\niranjana\\appdata\\local\\programs\\python\\python310\\lib\\site-packages (from pyamg->HIRISEimgs==0.0.0.0.dev47) (1.7.3)\n",
      "Requirement already satisfied: pytest>=2 in c:\\users\\niranjana\\appdata\\local\\programs\\python\\python310\\lib\\site-packages (from pyamg->HIRISEimgs==0.0.0.0.dev47) (7.0.1)\n",
      "Requirement already satisfied: idna<4,>=2.5 in c:\\users\\niranjana\\appdata\\local\\programs\\python\\python310\\lib\\site-packages (from requests->HIRISEimgs==0.0.0.0.dev47) (3.3)\n",
      "Requirement already satisfied: urllib3<1.27,>=1.21.1 in c:\\users\\niranjana\\appdata\\local\\programs\\python\\python310\\lib\\site-packages (from requests->HIRISEimgs==0.0.0.0.dev47) (1.26.8)\n",
      "Requirement already satisfied: certifi>=2017.4.17 in c:\\users\\niranjana\\appdata\\local\\programs\\python\\python310\\lib\\site-packages (from requests->HIRISEimgs==0.0.0.0.dev47) (2021.10.8)\n",
      "Requirement already satisfied: charset-normalizer~=2.0.0 in c:\\users\\niranjana\\appdata\\local\\programs\\python\\python310\\lib\\site-packages (from requests->HIRISEimgs==0.0.0.0.dev47) (2.0.12)\n",
      "Requirement already satisfied: typing-extensions in c:\\users\\niranjana\\appdata\\local\\programs\\python\\python310\\lib\\site-packages (from torch->HIRISEimgs==0.0.0.0.dev47) (4.2.0)\n",
      "Requirement already satisfied: packaging in c:\\users\\niranjana\\appdata\\local\\programs\\python\\python310\\lib\\site-packages (from pytest>=2->pyamg->HIRISEimgs==0.0.0.0.dev47) (21.3)\n",
      "Requirement already satisfied: pluggy<2.0,>=0.12 in c:\\users\\niranjana\\appdata\\local\\programs\\python\\python310\\lib\\site-packages (from pytest>=2->pyamg->HIRISEimgs==0.0.0.0.dev47) (1.0.0)\n",
      "Requirement already satisfied: colorama in c:\\users\\niranjana\\appdata\\local\\programs\\python\\python310\\lib\\site-packages (from pytest>=2->pyamg->HIRISEimgs==0.0.0.0.dev47) (0.4.4)\n",
      "Requirement already satisfied: py>=1.8.2 in c:\\users\\niranjana\\appdata\\local\\programs\\python\\python310\\lib\\site-packages (from pytest>=2->pyamg->HIRISEimgs==0.0.0.0.dev47) (1.11.0)\n",
      "Requirement already satisfied: iniconfig in c:\\users\\niranjana\\appdata\\local\\programs\\python\\python310\\lib\\site-packages (from pytest>=2->pyamg->HIRISEimgs==0.0.0.0.dev47) (1.1.1)\n",
      "Requirement already satisfied: tomli>=1.0.0 in c:\\users\\niranjana\\appdata\\local\\programs\\python\\python310\\lib\\site-packages (from pytest>=2->pyamg->HIRISEimgs==0.0.0.0.dev47) (2.0.1)\n",
      "Requirement already satisfied: attrs>=19.2.0 in c:\\users\\niranjana\\appdata\\local\\programs\\python\\python310\\lib\\site-packages (from pytest>=2->pyamg->HIRISEimgs==0.0.0.0.dev47) (21.4.0)\n",
      "Requirement already satisfied: atomicwrites>=1.0 in c:\\users\\niranjana\\appdata\\local\\programs\\python\\python310\\lib\\site-packages (from pytest>=2->pyamg->HIRISEimgs==0.0.0.0.dev47) (1.4.0)\n",
      "Requirement already satisfied: six>=1.5 in c:\\users\\niranjana\\appdata\\local\\programs\\python\\python310\\lib\\site-packages (from python-dateutil>=2.7.3->pandas->HIRISEimgs==0.0.0.0.dev47) (1.16.0)\n",
      "Requirement already satisfied: pyparsing!=3.0.5,>=2.0.2 in c:\\users\\niranjana\\appdata\\local\\programs\\python\\python310\\lib\\site-packages (from packaging->pytest>=2->pyamg->HIRISEimgs==0.0.0.0.dev47) (3.0.6)\n",
      "Building wheels for collected packages: HIRISEimgs\n",
      "  Building wheel for HIRISEimgs (setup.py): started\n",
      "  Building wheel for HIRISEimgs (setup.py): finished with status 'done'\n",
      "  Created wheel for HIRISEimgs: filename=HIRISEimgs-0.0.0.0.dev47-py3-none-any.whl size=11275401 sha256=477a2873082253653a13a96d4321bada7e9fb462f714463e0d7c54bbff2d9b56\n",
      "  Stored in directory: c:\\users\\niranjana\\appdata\\local\\pip\\cache\\wheels\\90\\07\\d5\\a627419756298d1fbe87d86449650b1e84d4b15097946d2168\n",
      "Successfully built HIRISEimgs\n",
      "Installing collected packages: HIRISEimgs\n",
      "Successfully installed HIRISEimgs-0.0.0.0.dev47\n"
     ]
    }
   ],
   "source": [
    "!pip install --index-url https://test.pypi.org/simple/ --extra-index-url https://pypi.org/simple  HIRISEimgs==0.0.0.0.dev47 --user"
   ]
  },
  {
   "cell_type": "code",
   "execution_count": null,
   "metadata": {},
   "outputs": [],
   "source": [
    "import sys\n",
    "sys.path.append('/users/niranjana/appdata/local/programs/python/python310/lib/site-packages')\n",
    "# sys.path.append('/users/alw/appdata/roaming/python/python310/site-packages')\n",
    "# sys.path.append('/python310/lib/site-packages')"
   ]
  },
  {
   "cell_type": "code",
   "execution_count": 14,
   "metadata": {},
   "outputs": [],
   "source": [
    "from hirise import Hirise_Image\n",
    "from hirise import Image_Client\n",
    "from preprocessing import Data_Preparation"
   ]
  },
  {
   "cell_type": "code",
   "execution_count": 15,
   "metadata": {},
   "outputs": [],
   "source": [
    "imc = Image_Client.Image_Client()"
   ]
  },
  {
   "cell_type": "code",
   "execution_count": 16,
   "metadata": {},
   "outputs": [
    {
     "ename": "TypeError",
     "evalue": "Image_Client.download() missing 1 required positional argument: 'folder_path'",
     "output_type": "error",
     "traceback": [
      "\u001b[1;31m---------------------------------------------------------------------------\u001b[0m",
      "\u001b[1;31mTypeError\u001b[0m                                 Traceback (most recent call last)",
      "\u001b[1;32mC:\\Users\\NIRANJ~1\\AppData\\Local\\Temp/ipykernel_34048/58459228.py\u001b[0m in \u001b[0;36m<module>\u001b[1;34m\u001b[0m\n\u001b[1;32m----> 1\u001b[1;33m \u001b[0mimc\u001b[0m\u001b[1;33m.\u001b[0m\u001b[0mdownload_random_images\u001b[0m\u001b[1;33m(\u001b[0m\u001b[0mfolder_path\u001b[0m\u001b[1;33m=\u001b[0m \u001b[1;34m'/data-download/'\u001b[0m\u001b[1;33m,\u001b[0m \u001b[0mimage_count\u001b[0m\u001b[1;33m=\u001b[0m\u001b[1;36m10\u001b[0m\u001b[1;33m)\u001b[0m\u001b[1;33m\u001b[0m\u001b[1;33m\u001b[0m\u001b[0m\n\u001b[0m",
      "\u001b[1;32m~\\AppData\\Roaming\\Python\\Python310\\site-packages\\hirise\\Image_Client.py\u001b[0m in \u001b[0;36mdownload_random_images\u001b[1;34m(self, folder_path, image_count, local_database_path)\u001b[0m\n\u001b[0;32m    400\u001b[0m         \u001b[0mHirise_img_objects\u001b[0m \u001b[1;33m=\u001b[0m  \u001b[1;33m[\u001b[0m\u001b[0mHirise_Image\u001b[0m\u001b[1;33m.\u001b[0m\u001b[0mHirise_Image\u001b[0m\u001b[1;33m(\u001b[0m\u001b[0mf_name\u001b[0m\u001b[1;33m)\u001b[0m \u001b[1;32mfor\u001b[0m \u001b[0mf_name\u001b[0m \u001b[1;32min\u001b[0m \u001b[0mf_names\u001b[0m\u001b[1;33m]\u001b[0m\u001b[1;33m\u001b[0m\u001b[1;33m\u001b[0m\u001b[0m\n\u001b[0;32m    401\u001b[0m \u001b[1;33m\u001b[0m\u001b[0m\n\u001b[1;32m--> 402\u001b[1;33m         \u001b[0mImage_Client\u001b[0m\u001b[1;33m.\u001b[0m\u001b[0mdownload\u001b[0m\u001b[1;33m(\u001b[0m\u001b[0mHirise_img_objects\u001b[0m\u001b[1;33m,\u001b[0m\u001b[0mfolder_path\u001b[0m \u001b[1;33m=\u001b[0m \u001b[0mfolder_path\u001b[0m\u001b[1;33m)\u001b[0m\u001b[1;33m\u001b[0m\u001b[1;33m\u001b[0m\u001b[0m\n\u001b[0m",
      "\u001b[1;31mTypeError\u001b[0m: Image_Client.download() missing 1 required positional argument: 'folder_path'"
     ]
    }
   ],
   "source": [
    "imc.download_random_images(folder_path= '/data-download/', image_count=10)"
   ]
  },
  {
   "cell_type": "code",
   "execution_count": null,
   "metadata": {},
   "outputs": [],
   "source": []
  }
 ],
 "metadata": {
  "kernelspec": {
   "display_name": "Python 3 (ipykernel)",
   "language": "python",
   "name": "python3"
  },
  "language_info": {
   "codemirror_mode": {
    "name": "ipython",
    "version": 3
   },
   "file_extension": ".py",
   "mimetype": "text/x-python",
   "name": "python",
   "nbconvert_exporter": "python",
   "pygments_lexer": "ipython3",
   "version": "3.10.1"
  }
 },
 "nbformat": 4,
 "nbformat_minor": 2
}
