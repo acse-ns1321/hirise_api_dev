{
 "cells": [
  {
   "cell_type": "markdown",
   "metadata": {},
   "source": [
    "# Testing Features and Functions Locally"
   ]
  },
  {
   "cell_type": "code",
   "execution_count": 1,
   "metadata": {},
   "outputs": [
    {
     "name": "stdout",
     "output_type": "stream",
     "text": [
      "Looking in indexes: https://test.pypi.org/simple/, https://pypi.org/simple\n",
      "Collecting HIRISEimgs==0.0.0.0.dev50\n",
      "  Downloading https://test-files.pythonhosted.org/packages/23/b6/203ee18e4bb104c85cf8fe2edad2c5d37582c588a8e6a6de0a3c3476db59/HIRISEimgs-0.0.0.0.dev50.tar.gz (11.3 MB)\n",
      "     ---------------------------------------- 11.3/11.3 MB 1.3 MB/s eta 0:00:00\n",
      "  Preparing metadata (setup.py): started\n",
      "  Preparing metadata (setup.py): finished with status 'done'\n",
      "Requirement already satisfied: wheel in c:\\users\\niranjana\\appdata\\local\\programs\\python\\python310\\lib\\site-packages (from HIRISEimgs==0.0.0.0.dev50) (0.37.1)\n",
      "Requirement already satisfied: humanize in c:\\users\\niranjana\\appdata\\local\\programs\\python\\python310\\lib\\site-packages (from HIRISEimgs==0.0.0.0.dev50) (4.1.0)\n",
      "Requirement already satisfied: requests in c:\\users\\niranjana\\appdata\\local\\programs\\python\\python310\\lib\\site-packages (from HIRISEimgs==0.0.0.0.dev50) (2.27.1)\n",
      "Requirement already satisfied: beautifulsoup4 in c:\\users\\niranjana\\appdata\\local\\programs\\python\\python310\\lib\\site-packages (from HIRISEimgs==0.0.0.0.dev50) (4.11.1)\n",
      "Requirement already satisfied: pyamg in c:\\users\\niranjana\\appdata\\local\\programs\\python\\python310\\lib\\site-packages (from HIRISEimgs==0.0.0.0.dev50) (4.2.2)\n",
      "Requirement already satisfied: soupsieve>1.2 in c:\\users\\niranjana\\appdata\\local\\programs\\python\\python310\\lib\\site-packages (from beautifulsoup4->HIRISEimgs==0.0.0.0.dev50) (2.3.2.post1)\n",
      "Requirement already satisfied: numpy>=1.7.0 in c:\\users\\niranjana\\appdata\\roaming\\python\\python310\\site-packages (from pyamg->HIRISEimgs==0.0.0.0.dev50) (1.22.4)\n",
      "Requirement already satisfied: pytest>=2 in c:\\users\\niranjana\\appdata\\local\\programs\\python\\python310\\lib\\site-packages (from pyamg->HIRISEimgs==0.0.0.0.dev50) (7.0.1)\n",
      "Requirement already satisfied: scipy>=0.12.0 in c:\\users\\niranjana\\appdata\\local\\programs\\python\\python310\\lib\\site-packages (from pyamg->HIRISEimgs==0.0.0.0.dev50) (1.7.3)\n",
      "Requirement already satisfied: idna<4,>=2.5 in c:\\users\\niranjana\\appdata\\local\\programs\\python\\python310\\lib\\site-packages (from requests->HIRISEimgs==0.0.0.0.dev50) (3.3)\n",
      "Requirement already satisfied: urllib3<1.27,>=1.21.1 in c:\\users\\niranjana\\appdata\\local\\programs\\python\\python310\\lib\\site-packages (from requests->HIRISEimgs==0.0.0.0.dev50) (1.26.8)\n",
      "Requirement already satisfied: certifi>=2017.4.17 in c:\\users\\niranjana\\appdata\\local\\programs\\python\\python310\\lib\\site-packages (from requests->HIRISEimgs==0.0.0.0.dev50) (2021.10.8)\n",
      "Requirement already satisfied: charset-normalizer~=2.0.0 in c:\\users\\niranjana\\appdata\\local\\programs\\python\\python310\\lib\\site-packages (from requests->HIRISEimgs==0.0.0.0.dev50) (2.0.12)\n",
      "Requirement already satisfied: atomicwrites>=1.0 in c:\\users\\niranjana\\appdata\\local\\programs\\python\\python310\\lib\\site-packages (from pytest>=2->pyamg->HIRISEimgs==0.0.0.0.dev50) (1.4.0)\n",
      "Requirement already satisfied: attrs>=19.2.0 in c:\\users\\niranjana\\appdata\\local\\programs\\python\\python310\\lib\\site-packages (from pytest>=2->pyamg->HIRISEimgs==0.0.0.0.dev50) (21.4.0)\n",
      "Requirement already satisfied: colorama in c:\\users\\niranjana\\appdata\\local\\programs\\python\\python310\\lib\\site-packages (from pytest>=2->pyamg->HIRISEimgs==0.0.0.0.dev50) (0.4.4)\n",
      "Requirement already satisfied: tomli>=1.0.0 in c:\\users\\niranjana\\appdata\\local\\programs\\python\\python310\\lib\\site-packages (from pytest>=2->pyamg->HIRISEimgs==0.0.0.0.dev50) (2.0.1)\n",
      "Requirement already satisfied: pluggy<2.0,>=0.12 in c:\\users\\niranjana\\appdata\\local\\programs\\python\\python310\\lib\\site-packages (from pytest>=2->pyamg->HIRISEimgs==0.0.0.0.dev50) (1.0.0)\n",
      "Requirement already satisfied: py>=1.8.2 in c:\\users\\niranjana\\appdata\\local\\programs\\python\\python310\\lib\\site-packages (from pytest>=2->pyamg->HIRISEimgs==0.0.0.0.dev50) (1.11.0)\n",
      "Requirement already satisfied: packaging in c:\\users\\niranjana\\appdata\\local\\programs\\python\\python310\\lib\\site-packages (from pytest>=2->pyamg->HIRISEimgs==0.0.0.0.dev50) (21.3)\n",
      "Requirement already satisfied: iniconfig in c:\\users\\niranjana\\appdata\\local\\programs\\python\\python310\\lib\\site-packages (from pytest>=2->pyamg->HIRISEimgs==0.0.0.0.dev50) (1.1.1)\n",
      "Requirement already satisfied: pyparsing!=3.0.5,>=2.0.2 in c:\\users\\niranjana\\appdata\\local\\programs\\python\\python310\\lib\\site-packages (from packaging->pytest>=2->pyamg->HIRISEimgs==0.0.0.0.dev50) (3.0.6)\n",
      "Building wheels for collected packages: HIRISEimgs\n",
      "  Building wheel for HIRISEimgs (setup.py): started\n",
      "  Building wheel for HIRISEimgs (setup.py): finished with status 'done'\n",
      "  Created wheel for HIRISEimgs: filename=HIRISEimgs-0.0.0.0.dev50-py3-none-any.whl size=11281669 sha256=0ef060effca26e72268056ed1823c3b55b0df293978072b1a1a7492d4e43e249\n",
      "  Stored in directory: c:\\users\\niranjana\\appdata\\local\\pip\\cache\\wheels\\2d\\c3\\d4\\d30b47da3b1675036a4c2098b7785b689c305609d36e00effb\n",
      "Successfully built HIRISEimgs\n",
      "Installing collected packages: HIRISEimgs\n",
      "Successfully installed HIRISEimgs-0.0.0.0.dev50\n"
     ]
    }
   ],
   "source": [
    "!pip install --index-url https://test.pypi.org/simple/ --extra-index-url https://pypi.org/simple  HIRISEimgs==0.0.0.0.dev50 --user"
   ]
  },
  {
   "cell_type": "code",
   "execution_count": 2,
   "metadata": {},
   "outputs": [],
   "source": [
    "import sys\n",
    "sys.path.append('/users/niranjana/appdata/local/programs/python/python310/lib/site-packages')\n",
    "sys.path.append('/python310/lib/site-packages')"
   ]
  },
  {
   "cell_type": "code",
   "execution_count": 10,
   "metadata": {},
   "outputs": [],
   "source": [
    "from hirise import Hirise_Image\n",
    "from hirise import Image_Client\n",
    "from preprocessing import Data_Preparation\n"
   ]
  },
  {
   "cell_type": "code",
   "execution_count": 4,
   "metadata": {},
   "outputs": [],
   "source": [
    "imc = Image_Client.Image_Client()"
   ]
  },
  {
   "cell_type": "code",
   "execution_count": 7,
   "metadata": {},
   "outputs": [],
   "source": [
    "imc.download_random_images( '/data-download/', image_count=10)"
   ]
  },
  {
   "cell_type": "code",
   "execution_count": null,
   "metadata": {},
   "outputs": [],
   "source": [
    "dp.tile_images(folder_path='./download-data',image_directory  ='./download-data/tiled-images/' , image_size_pixels = 256)\n"
   ]
  },
  {
   "cell_type": "code",
   "execution_count": null,
   "metadata": {},
   "outputs": [],
   "source": [
    "dp.remove_image_with_empty_pixels(folder_path='./download-data/tiled-images/', max_percentage_empty_space = 10)\n"
   ]
  },
  {
   "cell_type": "code",
   "execution_count": null,
   "metadata": {},
   "outputs": [],
   "source": [
    "tr,tst,val = Data_Preparation.get_train_test_val_tensors(dataset = dataset1)"
   ]
  },
  {
   "cell_type": "code",
   "execution_count": null,
   "metadata": {},
   "outputs": [],
   "source": [
    "tr_l,tst_l, val_l = Data_Preparation.get_train_test_val_dataloader(train_data = tr, test_data = tst, val_data = val,  b_size = 128)"
   ]
  },
  {
   "cell_type": "code",
   "execution_count": null,
   "metadata": {},
   "outputs": [],
   "source": [
    "enc = E"
   ]
  }
 ],
 "metadata": {
  "kernelspec": {
   "display_name": "Python 3 (ipykernel)",
   "language": "python",
   "name": "python3"
  },
  "language_info": {
   "codemirror_mode": {
    "name": "ipython",
    "version": 3
   },
   "file_extension": ".py",
   "mimetype": "text/x-python",
   "name": "python",
   "nbconvert_exporter": "python",
   "pygments_lexer": "ipython3",
   "version": "3.10.1"
  }
 },
 "nbformat": 4,
 "nbformat_minor": 2
}
